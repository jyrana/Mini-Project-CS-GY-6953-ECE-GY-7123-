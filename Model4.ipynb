{
  "nbformat": 4,
  "nbformat_minor": 0,
  "metadata": {
    "colab": {
      "provenance": [],
      "gpuType": "T4"
    },
    "kernelspec": {
      "name": "python3",
      "display_name": "Python 3"
    },
    "language_info": {
      "name": "python"
    },
    "accelerator": "GPU",
    "gpuClass": "standard"
  },
  "cells": [
    {
      "cell_type": "code",
      "execution_count": 1,
      "metadata": {
        "id": "QFrsvXzI4-Bm"
      },
      "outputs": [],
      "source": [
        "import torch\n",
        "import torch.nn as nn\n",
        "import torchvision\n",
        "import torchvision.transforms as transforms\n",
        "import torch.nn.functional as F\n",
        "\n",
        " \n",
        "\n",
        "# Device configuration\n",
        "device = torch.device('cuda' if torch.cuda.is_available() else 'cpu')"
      ]
    },
    {
      "cell_type": "code",
      "source": [
        "# CIFAR-10 dataset\n",
        "train_transform = transforms.Compose([\n",
        "    transforms.RandomCrop(32, padding=4),\n",
        "    transforms.RandomHorizontalFlip(),\n",
        "    transforms.RandomRotation(degrees=15),\n",
        "    transforms.ToTensor(),\n",
        "    transforms.Normalize((0.4914, 0.4822, 0.4465), (0.2023, 0.1994, 0.2010))\n",
        "])\n",
        "\n",
        " \n",
        "\n",
        " \n",
        "\n",
        "train_dataset = torchvision.datasets.CIFAR10(root='./data', train=True, transform=train_transform, download=True)\n",
        "test_transform = transforms.Compose([\n",
        "    transforms.ToTensor(),\n",
        "    transforms.Normalize((0.4914, 0.4822, 0.4465), (0.2023, 0.1994, 0.2010))\n",
        "])\n",
        "\n",
        "test_dataset = torchvision.datasets.CIFAR10(root='./data', train=False, transform=test_transform)\n",
        "\n",
        "train_loader = torch.utils.data.DataLoader(train_dataset, batch_size=32, shuffle=True)\n",
        "\n",
        "test_loader = torch.utils.data.DataLoader(test_dataset, batch_size=32, shuffle=False)\n",
        " "
      ],
      "metadata": {
        "colab": {
          "base_uri": "https://localhost:8080/",
          "height": 0
        },
        "id": "lZmgXM6W6LPi",
        "outputId": "d644ca40-10e6-4bb2-e858-61ff17cf3935"
      },
      "execution_count": 2,
      "outputs": [
        {
          "output_type": "stream",
          "name": "stdout",
          "text": [
            "Downloading https://www.cs.toronto.edu/~kriz/cifar-10-python.tar.gz to ./data/cifar-10-python.tar.gz\n"
          ]
        },
        {
          "output_type": "stream",
          "name": "stderr",
          "text": [
            "100%|██████████| 170498071/170498071 [00:02<00:00, 71439120.49it/s]\n"
          ]
        },
        {
          "output_type": "stream",
          "name": "stdout",
          "text": [
            "Extracting ./data/cifar-10-python.tar.gz to ./data\n"
          ]
        }
      ]
    },
    {
      "cell_type": "code",
      "source": [
        "\n",
        "# Modified ResNet-18\n",
        "\n",
        "class BasicBlock(nn.Module):\n",
        "    def __init__(self, in_channels, out_channels, stride=1):\n",
        "        super(BasicBlock, self).__init__()\n",
        "        self.conv1 = nn.Conv2d(in_channels, out_channels, kernel_size=3, stride=stride, padding=1, bias=False)\n",
        "        self.bn1 = nn.BatchNorm2d(out_channels)\n",
        "        self.conv2 = nn.Conv2d(out_channels, out_channels, kernel_size=3, stride=1, padding=1, bias=False)\n",
        "        self.bn2 = nn.BatchNorm2d(out_channels)\n",
        " \n",
        "        self.shortcut = nn.Sequential()\n",
        "        if stride != 1 or in_channels != out_channels:\n",
        "            self.shortcut = nn.Sequential(\n",
        "                nn.Conv2d(in_channels, out_channels, kernel_size=1, stride=stride, bias=False),\n",
        "                nn.BatchNorm2d(out_channels)\n",
        "            )\n",
        "\n",
        " \n",
        "\n",
        "    def forward(self, x):\n",
        "        out = F.relu(self.bn1(self.conv1(x)))\n",
        "        out = self.bn2(self.conv2(out))\n",
        "        out += self.shortcut(x)\n",
        "        out = F.relu(out)\n",
        "        return out\n"
      ],
      "metadata": {
        "id": "hPKvW_OT6PhN"
      },
      "execution_count": 3,
      "outputs": []
    },
    {
      "cell_type": "code",
      "source": [
        "class ModifiedResNet(nn.Module):\n",
        "    def __init__(self, block, num_blocks, num_classes=10):\n",
        "        super(ModifiedResNet, self).__init__()\n",
        "        self.in_channels = 64\n",
        "        self.conv1 = nn.Conv2d(3, 64, kernel_size=3, stride=1, padding=1, bias=False)\n",
        "        self.bn1 = nn.BatchNorm2d(64)\n",
        "        self.layer1 = self._make_layer(block, 64, num_blocks[0], stride=1)\n",
        "        self.layer2 = self._make_layer(block, 128, num_blocks[1], stride=2)\n",
        "        self.layer3 = self._make_layer(block, 256, num_blocks[2], stride=2)\n",
        "        self.layer4 = self._make_layer(block, 256, num_blocks[3], stride=2)\n",
        "        self.avg_pool = nn.AvgPool2d(kernel_size=8)\n",
        "        self.Dropout = nn.Dropout(0.5)\n",
        "        self.linear = nn.Linear(256, num_classes)\n",
        " \n",
        "\n",
        "    def _make_layer(self, block, out_channels, num_blocks, stride):\n",
        "        strides = [stride] + [1] * (num_blocks - 1)\n",
        "        layers = []\n",
        "        for stride in strides:\n",
        "            layers.append(block(self.in_channels, out_channels, stride))\n",
        "            self.in_channels = out_channels\n",
        "        return nn.Sequential(*layers)\n",
        " \n",
        "\n",
        "    def forward(self, x):\n",
        "        out = F.relu(self.bn1(self.conv1(x)))\n",
        "        out = self.layer1(out)\n",
        "        out = self.layer2(out)\n",
        "        out = self.layer3(out)\n",
        "        out = self.layer4(out)\n",
        "        out = F.avg_pool2d(out, 4)\n",
        "        out = self.Dropout(out)\n",
        "        out = out.view(out.size(0), -1)\n",
        "        h = x.view(x.shape[0], -1)\n",
        "        out = self.linear(out)\n",
        "        return out"
      ],
      "metadata": {
        "id": "ZV0_v8Lu6WvS"
      },
      "execution_count": 4,
      "outputs": []
    },
    {
      "cell_type": "code",
      "source": [
        "# Model\n",
        "model = ModifiedResNet(BasicBlock, [2, 2, 2, 1]).to(device)\n",
        " \n",
        "# Loss and optimizer\n",
        "criterion = nn.CrossEntropyLoss()\n",
        "\n",
        "#optimizer = torch.optim.Adam(model.parameters(), lr=0.01, weight_decay=1e-5)\n",
        "optimizer = torch.optim.SGD(model.parameters(), lr=0.005,  momentum=0.9, weight_decay=5e-4)\n",
        "scheduler = torch.optim.lr_scheduler.StepLR(optimizer, step_size=20, gamma=0.1)"
      ],
      "metadata": {
        "id": "NcPKZE1v6a0w"
      },
      "execution_count": 5,
      "outputs": []
    },
    {
      "cell_type": "code",
      "source": [
        "print(\"Number of Trainable parameter:\", sum(param.numel() for param in model.parameters() if param.requires_grad))"
      ],
      "metadata": {
        "colab": {
          "base_uri": "https://localhost:8080/",
          "height": 0
        },
        "id": "MghkpHNrUkoU",
        "outputId": "d15de767-57b6-4c8c-fc85-c438ef06d160"
      },
      "execution_count": 6,
      "outputs": [
        {
          "output_type": "stream",
          "name": "stdout",
          "text": [
            "Number of Trainable parameter: 4024394\n"
          ]
        }
      ]
    },
    {
      "cell_type": "code",
      "source": [
        "def calculate_accuracy(y_pred, y):\n",
        "    top_pred = y_pred.argmax(1, keepdim = True)\n",
        "    correct = top_pred.eq(y.view_as(top_pred)).sum()\n",
        "    acc = correct.float() / y.shape[0]\n",
        "    return acc"
      ],
      "metadata": {
        "id": "P0MuJ3pR6erd"
      },
      "execution_count": 7,
      "outputs": []
    },
    {
      "cell_type": "code",
      "source": [
        "num_epochs = 60\n",
        "train_accuracy = []\n",
        "train_loss = []\n",
        "best_train_loss=0\n",
        "\n",
        "for epoch in range(num_epochs):\n",
        "    # Training loop\n",
        "    epoch_acc = 0\n",
        "    for i, (images, labels) in enumerate(train_loader):\n",
        "        images = images.to(device)\n",
        "        labels = labels.to(device)\n",
        "        # Forward pass\n",
        "        output = model(images)\n",
        "        loss = criterion(output, labels)\n",
        "        acc = calculate_accuracy(output, labels)\n",
        "        # Backward and optimize\n",
        "        optimizer.zero_grad()\n",
        "        loss.backward()\n",
        "        optimizer.step()\n",
        "        epoch_acc += acc.item()\n",
        "    scheduler.step()\n",
        "    print(f'Epoch [{epoch+1}/{num_epochs}], Loss: {loss.item():.4f}, Accuracy: {epoch_acc / len(train_loader)}')\n",
        "    train_accuracy.append(epoch_acc / len(train_loader))\n",
        "    train_loss.append(loss.item())\n",
        "    if loss < best_train_loss:\n",
        "        best_train_loss = loss\n",
        "        torch.save(model.state_dict(), 'best_model.pt')\n",
        "\n",
        "    #Test\n",
        "    model.eval()\n",
        "    with torch.no_grad():\n",
        "        correct = 0\n",
        "        total = 0\n",
        "        for images, labels in test_loader:\n",
        "            images = images.to(device)\n",
        "            labels = labels.to(device)\n",
        "            outputs = model(images)\n",
        "            _, predicted = torch.max(outputs.data, 1)\n",
        "            total += labels.size(0)\n",
        "            correct += (predicted == labels).sum().item()\n",
        "    # Print the accuracy\n",
        "    accuracy = 100 * correct / total\n",
        "    print(f'Test Accuracy of the model on the 10000 test images: {accuracy:.2f}%')"
      ],
      "metadata": {
        "colab": {
          "base_uri": "https://localhost:8080/",
          "height": 0
        },
        "id": "8KhkVlfh6iyC",
        "outputId": "a03eaea6-e876-4ae2-e55a-41b10bda1a85"
      },
      "execution_count": 8,
      "outputs": [
        {
          "output_type": "stream",
          "name": "stdout",
          "text": [
            "Epoch [1/60], Loss: 1.3236, Accuracy: 0.42320457453614846\n",
            "Test Accuracy of the model on the 10000 test images: 52.95%\n",
            "Epoch [2/60], Loss: 1.0514, Accuracy: 0.5330294305822136\n",
            "Test Accuracy of the model on the 10000 test images: 63.61%\n",
            "Epoch [3/60], Loss: 0.7603, Accuracy: 0.6233005438259757\n",
            "Test Accuracy of the model on the 10000 test images: 67.32%\n",
            "Epoch [4/60], Loss: 0.5732, Accuracy: 0.6721849008317339\n",
            "Test Accuracy of the model on the 10000 test images: 69.51%\n",
            "Epoch [5/60], Loss: 0.7256, Accuracy: 0.7119921625079975\n",
            "Test Accuracy of the model on the 10000 test images: 72.58%\n",
            "Epoch [6/60], Loss: 0.6788, Accuracy: 0.7347048944337812\n",
            "Test Accuracy of the model on the 10000 test images: 77.16%\n",
            "Epoch [7/60], Loss: 0.4528, Accuracy: 0.7656349968010236\n",
            "Test Accuracy of the model on the 10000 test images: 78.14%\n",
            "Epoch [8/60], Loss: 0.7327, Accuracy: 0.7792506397952655\n",
            "Test Accuracy of the model on the 10000 test images: 80.49%\n",
            "Epoch [9/60], Loss: 0.7791, Accuracy: 0.796325175943698\n",
            "Test Accuracy of the model on the 10000 test images: 82.38%\n",
            "Epoch [10/60], Loss: 0.3722, Accuracy: 0.8052623160588611\n",
            "Test Accuracy of the model on the 10000 test images: 82.06%\n",
            "Epoch [11/60], Loss: 0.2041, Accuracy: 0.8168586052463211\n",
            "Test Accuracy of the model on the 10000 test images: 83.28%\n",
            "Epoch [12/60], Loss: 0.6387, Accuracy: 0.8218170185540628\n",
            "Test Accuracy of the model on the 10000 test images: 83.93%\n",
            "Epoch [13/60], Loss: 0.5679, Accuracy: 0.8333733205374281\n",
            "Test Accuracy of the model on the 10000 test images: 84.85%\n",
            "Epoch [14/60], Loss: 0.6141, Accuracy: 0.8358925143953935\n",
            "Test Accuracy of the model on the 10000 test images: 85.21%\n",
            "Epoch [15/60], Loss: 0.6372, Accuracy: 0.8438299744081894\n",
            "Test Accuracy of the model on the 10000 test images: 85.94%\n",
            "Epoch [16/60], Loss: 0.2524, Accuracy: 0.8497280870121561\n",
            "Test Accuracy of the model on the 10000 test images: 83.68%\n",
            "Epoch [17/60], Loss: 0.9517, Accuracy: 0.8547264875239923\n",
            "Test Accuracy of the model on the 10000 test images: 85.53%\n",
            "Epoch [18/60], Loss: 0.3375, Accuracy: 0.8585052783109405\n",
            "Test Accuracy of the model on the 10000 test images: 86.60%\n",
            "Epoch [19/60], Loss: 0.6180, Accuracy: 0.8633637236084453\n",
            "Test Accuracy of the model on the 10000 test images: 86.48%\n",
            "Epoch [20/60], Loss: 0.8866, Accuracy: 0.8665427063339731\n",
            "Test Accuracy of the model on the 10000 test images: 86.83%\n",
            "Epoch [21/60], Loss: 0.4280, Accuracy: 0.903930742162508\n",
            "Test Accuracy of the model on the 10000 test images: 89.48%\n",
            "Epoch [22/60], Loss: 0.1666, Accuracy: 0.9112883877159309\n",
            "Test Accuracy of the model on the 10000 test images: 89.63%\n",
            "Epoch [23/60], Loss: 0.1146, Accuracy: 0.9139075495841331\n",
            "Test Accuracy of the model on the 10000 test images: 89.54%\n",
            "Epoch [24/60], Loss: 0.2555, Accuracy: 0.91784628918746\n",
            "Test Accuracy of the model on the 10000 test images: 89.91%\n",
            "Epoch [25/60], Loss: 0.4498, Accuracy: 0.9183461292386437\n",
            "Test Accuracy of the model on the 10000 test images: 89.71%\n",
            "Epoch [26/60], Loss: 0.1008, Accuracy: 0.9209253039027511\n",
            "Test Accuracy of the model on the 10000 test images: 90.01%\n",
            "Epoch [27/60], Loss: 0.4462, Accuracy: 0.9206054062699937\n",
            "Test Accuracy of the model on the 10000 test images: 90.34%\n",
            "Epoch [28/60], Loss: 0.2986, Accuracy: 0.9222648752399232\n",
            "Test Accuracy of the model on the 10000 test images: 89.91%\n",
            "Epoch [29/60], Loss: 0.1530, Accuracy: 0.9245641394753679\n",
            "Test Accuracy of the model on the 10000 test images: 89.99%\n",
            "Epoch [30/60], Loss: 0.0476, Accuracy: 0.9262036148432502\n",
            "Test Accuracy of the model on the 10000 test images: 90.20%\n",
            "Epoch [31/60], Loss: 0.0254, Accuracy: 0.9269833653230967\n",
            "Test Accuracy of the model on the 10000 test images: 90.11%\n",
            "Epoch [32/60], Loss: 0.3945, Accuracy: 0.9277231285988484\n",
            "Test Accuracy of the model on the 10000 test images: 89.76%\n",
            "Epoch [33/60], Loss: 0.1963, Accuracy: 0.9279630518234165\n",
            "Test Accuracy of the model on the 10000 test images: 89.90%\n",
            "Epoch [34/60], Loss: 0.1864, Accuracy: 0.9275031989763276\n",
            "Test Accuracy of the model on the 10000 test images: 90.16%\n",
            "Epoch [35/60], Loss: 0.4762, Accuracy: 0.9286628278950736\n",
            "Test Accuracy of the model on the 10000 test images: 90.36%\n",
            "Epoch [36/60], Loss: 0.5661, Accuracy: 0.9303822776711452\n",
            "Test Accuracy of the model on the 10000 test images: 89.63%\n",
            "Epoch [37/60], Loss: 0.0810, Accuracy: 0.9308821177223289\n",
            "Test Accuracy of the model on the 10000 test images: 90.27%\n",
            "Epoch [38/60], Loss: 0.0312, Accuracy: 0.9327215291106846\n",
            "Test Accuracy of the model on the 10000 test images: 90.11%\n",
            "Epoch [39/60], Loss: 0.2607, Accuracy: 0.9324616122840691\n",
            "Test Accuracy of the model on the 10000 test images: 90.20%\n",
            "Epoch [40/60], Loss: 0.0795, Accuracy: 0.9336212412028151\n",
            "Test Accuracy of the model on the 10000 test images: 90.41%\n",
            "Epoch [41/60], Loss: 0.0399, Accuracy: 0.9396793026231606\n",
            "Test Accuracy of the model on the 10000 test images: 90.60%\n",
            "Epoch [42/60], Loss: 0.0988, Accuracy: 0.941558701215611\n",
            "Test Accuracy of the model on the 10000 test images: 90.66%\n",
            "Epoch [43/60], Loss: 0.1111, Accuracy: 0.9399792066538708\n",
            "Test Accuracy of the model on the 10000 test images: 90.45%\n",
            "Epoch [44/60], Loss: 0.0425, Accuracy: 0.9412188099808061\n",
            "Test Accuracy of the model on the 10000 test images: 90.56%\n",
            "Epoch [45/60], Loss: 0.0761, Accuracy: 0.9408789187460013\n",
            "Test Accuracy of the model on the 10000 test images: 90.49%\n",
            "Epoch [46/60], Loss: 0.0825, Accuracy: 0.9425983685220729\n",
            "Test Accuracy of the model on the 10000 test images: 90.71%\n",
            "Epoch [47/60], Loss: 0.1770, Accuracy: 0.943118202175304\n",
            "Test Accuracy of the model on the 10000 test images: 90.67%\n",
            "Epoch [48/60], Loss: 0.0813, Accuracy: 0.9420585412667947\n",
            "Test Accuracy of the model on the 10000 test images: 90.54%\n",
            "Epoch [49/60], Loss: 0.2835, Accuracy: 0.9432581573896354\n",
            "Test Accuracy of the model on the 10000 test images: 90.43%\n",
            "Epoch [50/60], Loss: 0.3214, Accuracy: 0.9442578374920025\n",
            "Test Accuracy of the model on the 10000 test images: 90.62%\n",
            "Epoch [51/60], Loss: 0.0915, Accuracy: 0.9435580614203455\n",
            "Test Accuracy of the model on the 10000 test images: 90.72%\n",
            "Epoch [52/60], Loss: 0.3982, Accuracy: 0.9420185540627\n",
            "Test Accuracy of the model on the 10000 test images: 90.72%\n",
            "Epoch [53/60], Loss: 0.3778, Accuracy: 0.9451175623800384\n",
            "Test Accuracy of the model on the 10000 test images: 90.78%\n",
            "Epoch [54/60], Loss: 0.1995, Accuracy: 0.9444377799104287\n",
            "Test Accuracy of the model on the 10000 test images: 90.47%\n",
            "Epoch [55/60], Loss: 0.2874, Accuracy: 0.9454174664107485\n",
            "Test Accuracy of the model on the 10000 test images: 90.70%\n",
            "Epoch [56/60], Loss: 0.1387, Accuracy: 0.9444177863083814\n",
            "Test Accuracy of the model on the 10000 test images: 90.63%\n",
            "Epoch [57/60], Loss: 0.3189, Accuracy: 0.9429982405630198\n",
            "Test Accuracy of the model on the 10000 test images: 90.77%\n",
            "Epoch [58/60], Loss: 0.0481, Accuracy: 0.9433581253998721\n",
            "Test Accuracy of the model on the 10000 test images: 90.64%\n",
            "Epoch [59/60], Loss: 0.3781, Accuracy: 0.9439779270633397\n",
            "Test Accuracy of the model on the 10000 test images: 90.58%\n",
            "Epoch [60/60], Loss: 0.0591, Accuracy: 0.9445577415227128\n",
            "Test Accuracy of the model on the 10000 test images: 90.58%\n"
          ]
        }
      ]
    },
    {
      "cell_type": "code",
      "source": [
        "print(\"Number of Trainable parameter:\", sum(param.numel() for param in model.parameters() if param.requires_grad))"
      ],
      "metadata": {
        "colab": {
          "base_uri": "https://localhost:8080/",
          "height": 0
        },
        "id": "wrda4X-gtUCR",
        "outputId": "0353e75a-abbc-4e21-9bde-2c03c83572b6"
      },
      "execution_count": 14,
      "outputs": [
        {
          "output_type": "stream",
          "name": "stdout",
          "text": [
            "Number of Trainable parameter: 4024394\n"
          ]
        }
      ]
    },
    {
      "cell_type": "code",
      "source": [
        "import matplotlib.pyplot as plt\n",
        "epochs = range(1, len(train_accuracy) + 1)\n",
        "\n",
        "# Plot train loss\n",
        "plt.plot(epochs, train_loss, 'b-', label='Training Loss')\n",
        "plt.title('Training Loss')\n",
        "plt.xlabel('Epochs')\n",
        "plt.ylabel('Loss')\n",
        "plt.legend()\n",
        "\n",
        "plt.show()\n",
        "\n",
        "# Plot train accuracy\n",
        "plt.plot(epochs, train_accuracy, 'b-', label='Training Accuracy')\n",
        "plt.title('Training Accuracy')\n",
        "plt.xlabel('Epochs')\n",
        "plt.ylabel('Accuracy')\n",
        "plt.legend()\n",
        "plt.show()"
      ],
      "metadata": {
        "colab": {
          "base_uri": "https://localhost:8080/",
          "height": 927
        },
        "id": "c57RoWnk65te",
        "outputId": "6dce1f20-a6dd-432e-a9d6-50849148ba19"
      },
      "execution_count": 15,
      "outputs": [
        {
          "output_type": "display_data",
          "data": {
            "text/plain": [
              "<Figure size 640x480 with 1 Axes>"
            ],
            "image/png": "[encoded data removed]"
          },
          "metadata": {}
        },
        {
          "output_type": "display_data",
          "data": {
            "text/plain": [
              "<Figure size 640x480 with 1 Axes>"
            ],
            "image/png": "[encoded data removed]"
          },
          "metadata": {}
        }
      ]
    }
  ]
}